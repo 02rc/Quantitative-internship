{
 "cells": [
  {
   "cell_type": "code",
   "execution_count": 1,
   "id": "6e2c2f01-21e3-4b8b-b0a8-010795e95b2b",
   "metadata": {
    "tags": []
   },
   "outputs": [],
   "source": [
    "import numpy as np\n",
    "from tqdm import tqdm"
   ]
  },
  {
   "cell_type": "code",
   "execution_count": 80,
   "id": "d527b528-a3d7-4c2a-bde0-5be757f8055e",
   "metadata": {},
   "outputs": [],
   "source": [
    "#########################################\n",
    "# Diversified import based on execution environment (notebook/standard interpreter)\n",
    "#########################################\n",
    "def is_notebook() -> bool:\n",
    "    try:\n",
    "        if \"get_ipython\" in globals().keys():\n",
    "            get_ipython = globals()[\"get_ipython\"]\n",
    "            shell = get_ipython().__class__.__name__\n",
    "            if shell == \"ZMQInteractiveShell\":\n",
    "                return True  # Jupyter notebook or qtconsole\n",
    "        # elif shell == \"TerminalInteractiveShell\":\n",
    "        #   return False  # Terminal running IPython\n",
    "        #   else:\n",
    "        return False  # Other type (?)\n",
    "    except NameError:\n",
    "        return False  # Probably standard Python interpreter\n",
    "\n",
    "\n",
    "if is_notebook():\n",
    "    from multiprocessing.pool import ThreadPool as Pool\n",
    "    from threading import Lock\n",
    "else:\n",
    "    from multiprocessing.pool import Pool\n",
    "    from multiprocessing import Lock"
   ]
  },
  {
   "cell_type": "code",
   "execution_count": 123,
   "id": "c833572d-ba19-4804-9246-6951f009d7d3",
   "metadata": {
    "tags": []
   },
   "outputs": [],
   "source": [
    "all_data = {}\n",
    "with np.load(r\"C:\\Users\\ASUS\\rc_work\\20230103.npz\") as npz_file:\n",
    "    stock_list = npz_file.files\n",
    "    for stk in stock_list:\n",
    "        all_data[stk] = npz_file[stk]"
   ]
  },
  {
   "cell_type": "code",
   "execution_count": 118,
   "id": "59261fb6-a863-44a2-ab1b-4a87fb147ce0",
   "metadata": {},
   "outputs": [],
   "source": [
    "name_lst = ['交易所代码','自然日','时间','成交编号','成交代码','委托代码','BS标志','成交价格','成交数量','叫卖序号','叫买序号','空列']\n",
    "\n",
    "def get_second(_num):\n",
    "    _hour = _num//1e4\n",
    "    _left_hour = _num - _hour*1e4\n",
    "    _min = _left_hour//1e2\n",
    "    _second = _left_hour - _min*1e2\n",
    "    result = _second + _min*60 + _hour*60*60\n",
    "    return result\n",
    "  \n",
    "def get_transaction_time_sub(_transaction_time_data):\n",
    "    # 这里需要减小计算量\n",
    "    if len(_transaction_time_data) == 1:\n",
    "        result = 0\n",
    "    else:\n",
    "        _first_time = np.min(_transaction_time_data)\n",
    "        _last_time = np.max(_transaction_time_data)\n",
    "        _first_time_dropmillisecond = _first_time//1e3\n",
    "        _last_time_dropmillisecond = _last_time//1e3\n",
    "        if _first_time_dropmillisecond == _last_time_dropmillisecond:\n",
    "            result = 0\n",
    "        elif (_first_time_dropmillisecond >= 130000 and _last_time_dropmillisecond >= 130000) or (_first_time_dropmillisecond <= 113000 and _last_time_dropmillisecond <= 113000):\n",
    "            result = get_second(_last_time_dropmillisecond) - get_second(_first_time_dropmillisecond)\n",
    "        else:\n",
    "            result = get_second(_last_time_dropmillisecond) - get_second(_first_time_dropmillisecond) - 5400\n",
    "    return result\n",
    "\n",
    "class long_sell_vol_prop(object):\n",
    "    def __init__(self,data,name_lst = name_lst):\n",
    "        self.id_BS = name_lst.index('BS标志')\n",
    "        self.id_time = name_lst.index('时间')   \n",
    "        self.id_sell = name_lst.index('叫卖序号')  \n",
    "        self.id_vol = name_lst.index('成交数量')\n",
    "        self.all_data = self.clean_data_BS_time(data)\n",
    "        \n",
    "    def clean_data_BS_time(self,_data):\n",
    "        # 1、去掉BS标志列为nan的行；\n",
    "        _nan_index = ~np.isnan(_data[:, self.id_BS]) # nan的布尔索引\n",
    "        # 2、用时间列去掉九点三十分之前的所有数据；\n",
    "        _sat_time_index = (_data[:,self.id_time] >= 93000000)\n",
    "        _remain_index =  _nan_index*_sat_time_index\n",
    "        _data_cleaned = _data[_remain_index,:]\n",
    "        return _data_cleaned\n",
    "    \n",
    "    def get_transaction_time(self):\n",
    "        # 3、统计当天每个卖单成交的起始和结束时间，计算出成交的时间间隔，精确到秒；\n",
    "        # 利用np.split会快很多\n",
    "        _data_sorted = self.all_data[np.argsort(self.all_data[:, self.id_sell]),:]\n",
    "        _sell_index, _sell_counts = np.unique(_data_sorted[:,self.id_sell], return_index=True)\n",
    "        _para_lst = np.split(_data_sorted[:, id_time], _sell_counts[1:])\n",
    "        _res_lst = []\n",
    "        for _transaction_time_data in _para_lst:\n",
    "            _res_lst.append(get_transaction_time_sub(_transaction_time_data))\n",
    "        # with Pool(24) as p:\n",
    "        #     _res_lst = list(tqdm(p.imap(get_transaction_time_sub,_para_lst),total = len(_sell_index)))\n",
    "        _sales_order_transaction_time = np.array(_res_lst)\n",
    "        # 4. 将所有卖单的成交时长排序并统计出0.9分位数的值，将大于0.9分位数的卖单标记为长卖单；\n",
    "        # i:从小到大排序；同时对sell_index排序\n",
    "        _sorted_indices = np.argsort(_sales_order_transaction_time)\n",
    "        _sales_order_transaction_time_sorted = _sales_order_transaction_time[_sorted_indices]\n",
    "        _sell_index_sorted = _sell_index[_sorted_indices]\n",
    "        # ii:统计出0.9分位数的值\n",
    "        # 直接使用 np.percentile(sales_order_transaction_time, 90)\n",
    "        _quantile_90 = np.percentile(_sales_order_transaction_time_sorted, 90)\n",
    "        # iii:将大于0.9分位数的卖单标记为长卖单\n",
    "        # 实际计算出来卖单的0.9分位数为0；所以就设置大于0的卖单为长买单，长卖单标记为True\n",
    "        _sell_index_sorted_marked_long = (_sales_order_transaction_time_sorted > _quantile_90)\n",
    "        # 输出长卖单序号\n",
    "        return _sell_index_sorted[_sell_index_sorted_marked_long]\n",
    "    \n",
    "    def get_factor(self):\n",
    "        # 长卖单序号\n",
    "        _long_sell_index = self.get_transaction_time()\n",
    "        # 长卖单的当天总成交量\n",
    "        _long_sell_all_vol = 0\n",
    "        for _long_sell_name in _long_sell_index:\n",
    "            _long_sell_name_index = (self.all_data[:,self.id_sell] == _long_sell_name)\n",
    "            _long_sell_name_vol = np.sum(self.all_data[_long_sell_name_index,self.id_vol])\n",
    "            _long_sell_all_vol += _long_sell_name_vol\n",
    "        # 当天总成交量\n",
    "        _all_vol = np.sum(self.all_data[:,id_vol])\n",
    "        _long_sell_vol_prop_factor = _long_sell_all_vol/_all_vol\n",
    "        return _long_sell_vol_prop_factor"
   ]
  },
  {
   "cell_type": "code",
   "execution_count": 119,
   "id": "223d6fed-535c-426e-bde1-39134771e701",
   "metadata": {
    "tags": []
   },
   "outputs": [
    {
     "data": {
      "text/plain": [
       "0.26048106217891753"
      ]
     },
     "execution_count": 119,
     "metadata": {},
     "output_type": "execute_result"
    }
   ],
   "source": [
    "example1 = long_sell_vol_prop(all_data)\n",
    "example1.get_factor()"
   ]
  },
  {
   "cell_type": "code",
   "execution_count": 7,
   "id": "37af50e7-d1bb-435d-a3f6-0b5563b4379c",
   "metadata": {
    "tags": []
   },
   "outputs": [],
   "source": [
    "# 1、去掉BS标志列为nan的行；\n",
    "id_BS = name_lst.index('BS标志')\n",
    "nan_index = np.isnan(all_data[:, id_BS]) # nan的布尔索引\n",
    "all_data_BS_cleaned = all_data[~nan_index,:] # cleaned N1,12"
   ]
  },
  {
   "cell_type": "code",
   "execution_count": 8,
   "id": "1eb73a00-7122-4af3-b237-9e7d92baf182",
   "metadata": {
    "tags": []
   },
   "outputs": [],
   "source": [
    "# 2、用时间列去掉九点三十分之前的所有数据；\n",
    "id_time = name_lst.index('时间')\n",
    "sat_time_index = (all_data_BS_cleaned[:,id_time] >= 93000000)\n",
    "all_data_BS_time_cleaned = all_data_BS_cleaned[sat_time_index,:]"
   ]
  },
  {
   "cell_type": "code",
   "execution_count": 9,
   "id": "8d05b7ee-2ae3-463b-9e30-e2e9d092da7e",
   "metadata": {
    "tags": []
   },
   "outputs": [],
   "source": [
    "def get_second(_num):\n",
    "    _num = int(_num)\n",
    "    _hour = _num//(10**7)\n",
    "    _left_hour = _num%(10**7)\n",
    "    _min = _left_hour//(10**5)\n",
    "    _left_min = _left_hour%(10**5)\n",
    "    _second = _left_min//1000\n",
    "    result = _second + _min*60 + _hour*60*60\n",
    "    return result\n",
    "\n",
    "def get_transaction_time(_name):\n",
    "    _id_transaction_time = (all_data_BS_time_cleaned[:,id_sell] == _name)\n",
    "    _transaction_time_data = all_data_BS_time_cleaned[_id_transaction_time,id_time]\n",
    "    _first_time = np.min(_transaction_time_data)\n",
    "    _last_time = np.max(_transaction_time_data)\n",
    "    if (_first_time >= 130000000 and _last_time >= 130000000) or (_first_time <= 113000000 and _last_time <= 113000000):\n",
    "        result = get_second(_last_time) - get_second(_first_time)\n",
    "    else:\n",
    "        result = get_second(_last_time) - get_second(_first_time) - 5400\n",
    "    return result"
   ]
  },
  {
   "cell_type": "code",
   "execution_count": 24,
   "id": "dd7bff50-c02b-4793-8248-e2af2cc4c1e1",
   "metadata": {
    "tags": []
   },
   "outputs": [
    {
     "name": "stderr",
     "output_type": "stream",
     "text": [
      "100%|██████████████████████████████████████████████████████████████████████████| 91619/91619 [01:03<00:00, 1448.80it/s]\n"
     ]
    }
   ],
   "source": [
    "# 3、统计当天每个卖单成交的起始和结束时间，计算出成交的时间间隔，精确到秒；\n",
    "id_sell = name_lst.index('叫卖序号')\n",
    "sell_index = np.unique(all_data_BS_time_cleaned[:,id_sell])\n",
    "sales_order_transaction_time = []\n",
    "for _name in tqdm(sell_index):\n",
    "    sales_order_transaction_time.append(get_transaction_time(_name))\n",
    "sales_order_transaction_time = np.array(sales_order_transaction_time)"
   ]
  },
  {
   "cell_type": "code",
   "execution_count": 41,
   "id": "ca1cf775-ff98-4577-80a4-bce272bb4e6f",
   "metadata": {},
   "outputs": [],
   "source": [
    "# 4. 将所有卖单的成交时长排序并统计出0.9分位数的值，将大于0.9分位数的卖单标记为长卖单；\n",
    "\n",
    "# i:从小到大排序；同时对sell_index排序\n",
    "sorted_indices = np.argsort(sales_order_transaction_time)\n",
    "sales_order_transaction_time_sorted = sales_order_transaction_time[sorted_indices]\n",
    "sell_index_sorted = sell_index[sorted_indices]\n",
    "# ii:统计出0.9分位数的值\n",
    "quantile_90_index = len(sales_order_transaction_time_sorted) / 10 * 9\n",
    "floor_quantile_90_index = np.floor(quantile_90_index)\n",
    "ceil_quantile_90_index = np.ceil(quantile_90_index)\n",
    "quantile_90 = sales_order_transaction_time_sorted[int(floor_quantile_90_index)]*(ceil_quantile_90_index - quantile_90_index) + sales_order_transaction_time_sorted[int(ceil_quantile_90_index)]*(quantile_90_index - floor_quantile_90_index)\n",
    "\n",
    "# 或者直接使用 np.percentile(sales_order_transaction_time, 90)\n",
    "quantile_90 = np.percentile(sales_order_transaction_time, 90)\n",
    "\n",
    "# iii:将大于0.9分位数的卖单标记为长卖单\n",
    "# 实际计算出来卖单的0.9分位数为0；所以就设置大于0的卖单为长买单，长卖单标记为True\n",
    "sell_index_sorted_marked_long = (sales_order_transaction_time_sorted > quantile_90)"
   ]
  },
  {
   "cell_type": "code",
   "execution_count": 42,
   "id": "463df17a-1586-48a0-a416-cf4a63c5506a",
   "metadata": {},
   "outputs": [],
   "source": [
    "# 5，统计计算出所有长卖单的当天总成交量，并除以当天总成交量（去掉九点三十分之前的所有数据）得到长卖单成交量占比因子；\n",
    "id_vol = name_lst.index('成交数量')\n",
    "long_sell_index_sorted = sell_index_sorted[sell_index_sorted_marked_long]\n",
    "# 长卖单的当天总成交量\n",
    "long_sell_all_vol = 0\n",
    "for _long_sell_name in long_sell_index_sorted:\n",
    "    _long_sell_index = (all_data_BS_time_cleaned[:,id_sell] == _long_sell_name)\n",
    "    _long_sell_index_vol = np.sum(all_data_BS_time_cleaned[_long_sell_index,id_vol])\n",
    "    long_sell_all_vol += _long_sell_index_vol\n",
    "# 当天总成交量\n",
    "all_vol = np.sum(all_data_BS_time_cleaned[:,id_vol])\n",
    "\n",
    "long_sell_vol_prop_factor = long_sell_all_vol/all_vol"
   ]
  },
  {
   "cell_type": "code",
   "execution_count": null,
   "id": "0fef7f0f-2767-488f-807f-26bf51bc7048",
   "metadata": {},
   "outputs": [],
   "source": []
  }
 ],
 "metadata": {
  "kernelspec": {
   "display_name": "Python 3 (ipykernel)",
   "language": "python",
   "name": "python3"
  },
  "language_info": {
   "codemirror_mode": {
    "name": "ipython",
    "version": 3
   },
   "file_extension": ".py",
   "mimetype": "text/x-python",
   "name": "python",
   "nbconvert_exporter": "python",
   "pygments_lexer": "ipython3",
   "version": "3.9.12"
  }
 },
 "nbformat": 4,
 "nbformat_minor": 5
}
