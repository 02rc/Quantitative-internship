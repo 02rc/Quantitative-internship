{
 "cells": [
  {
   "cell_type": "code",
   "execution_count": 89,
   "id": "83f539fd-7a64-4775-9370-d159940087f1",
   "metadata": {},
   "outputs": [],
   "source": [
    "import sys\n",
    "sys.path.append('/home/wangs/rs/lwm/lib')\n",
    "sys.path.append('/home/wangs/rs/lib')\n",
    "import et\n",
    "import ff\n",
    "import numpy as np"
   ]
  },
  {
   "cell_type": "code",
   "execution_count": 90,
   "id": "eefc499e-5444-4dc7-8daf-f7d6aa9f14c8",
   "metadata": {},
   "outputs": [],
   "source": [
    "def numsGame(nums):\n",
    "    result=[]\n",
    "    pa_1=np.array([])\n",
    "    pa_2=0\n",
    "    \n",
    "    for i in range(len(nums)):\n",
    "        pa_1=np.append(pa_1,nums[i]-0.5*i)\n",
    "        pa_2=np.median(pa_1)\n",
    "        median_offset = 0.5 if i % 2 != 0 else 0\n",
    "        median_value = round(pa_2 + median_offset) - median_offset\n",
    "        result.append(sum(abs(pa_1-median_value)))\n",
    "        pa_1=pa_1+0.5\n",
    "    return result"
   ]
  },
  {
   "cell_type": "code",
   "execution_count": 94,
   "id": "58767928-7574-4942-8ddf-18ea761dce90",
   "metadata": {},
   "outputs": [],
   "source": [
    "import heapq\n",
    "\n",
    "heap = []\n",
    "heapq.heappush(heap, 4)\n",
    "heapq.heappush(heap, 1)\n"
   ]
  },
  {
   "cell_type": "code",
   "execution_count": 98,
   "id": "65fc4f45-403f-40a1-8ef8-bbe459eb0ca1",
   "metadata": {},
   "outputs": [],
   "source": [
    "\n",
    "class Solution:\n",
    "    def numsGame(self, nums):\n",
    "        n = len(nums)\n",
    "        res = [0] * n\n",
    "        lower, upper = [], []\n",
    "        lowerSum, upperSum = 0, 0\n",
    "        mod = int(1e9 + 7)\n",
    "        for i in range(n):\n",
    "            x = nums[i] - i\n",
    "            if len(lower) == 0 or -lower[0] >= x:\n",
    "                lowerSum += x\n",
    "                heapq.heappush(lower, -x)\n",
    "                if len(lower) > len(upper) + 1:\n",
    "                    upperSum -= lower[0]\n",
    "                    heapq.heappush(upper, -lower[0])\n",
    "                    lowerSum += heapq.heappop(lower)\n",
    "            else:\n",
    "                upperSum += x\n",
    "                heapq.heappush(upper, x)\n",
    "                if len(lower) < len(upper):\n",
    "                    lowerSum += upper[0]\n",
    "                    heapq.heappush(lower, -upper[0])\n",
    "                    upperSum -= heapq.heappop(upper)\n",
    "            if (i + 1) % 2 == 0:\n",
    "                res[i] = (upperSum - lowerSum) % mod\n",
    "            else:\n",
    "                res[i] = (upperSum - lowerSum - lower[0]) % mod\n",
    "        return res\n"
   ]
  },
  {
   "cell_type": "code",
   "execution_count": 99,
   "id": "7538e840-cc21-40b7-ad8f-e400b3c73258",
   "metadata": {},
   "outputs": [
    {
     "name": "stdout",
     "output_type": "stream",
     "text": [
      "[0, 21, 22, 23, 25, 26, 29, 65, 69, 114, 123]\n"
     ]
    }
   ],
   "source": [
    "# 创建 Solution 类的实例\n",
    "solution_instance = Solution()\n",
    "\n",
    "# 定义输入列表 nums\n",
    "nums = [1, 23, 2, 3, 2, 4, 3, 43, 4, 54, 1]\n",
    "\n",
    "# 调用 numsGame 方法并获取结果\n",
    "result = solution_instance.numsGame(nums)\n",
    "\n",
    "# 打印结果\n",
    "print(result)\n"
   ]
  },
  {
   "cell_type": "code",
   "execution_count": 79,
   "id": "bd58c9f5-cf8a-40c7-9461-e8bafb03c8d1",
   "metadata": {},
   "outputs": [
    {
     "data": {
      "text/plain": [
       "[0.0, 0.0, 0.0, 5.0, 6.0, 7.0]"
      ]
     },
     "execution_count": 79,
     "metadata": {},
     "output_type": "execute_result"
    }
   ],
   "source": [
    "nums = [3,4,5,1,6,7]\n",
    "numsGame(nums)"
   ]
  },
  {
   "cell_type": "code",
   "execution_count": 56,
   "id": "4ccaec9e-3f3f-4e37-99fd-1841db70bce0",
   "metadata": {},
   "outputs": [],
   "source": [
    "a=np.array(nums)-1"
   ]
  },
  {
   "cell_type": "code",
   "execution_count": 57,
   "id": "275a90af-dc01-41a9-b8c6-6f7cc2bea884",
   "metadata": {},
   "outputs": [
    {
     "data": {
      "text/plain": [
       "array([2, 3, 4, 0, 5, 6, 1])"
      ]
     },
     "execution_count": 57,
     "metadata": {},
     "output_type": "execute_result"
    }
   ],
   "source": [
    "np.append(a,1)"
   ]
  },
  {
   "cell_type": "code",
   "execution_count": 30,
   "id": "f54542c6-3da6-4be5-8b2d-726ffb6730ea",
   "metadata": {},
   "outputs": [
    {
     "data": {
      "text/plain": [
       "array([2.5, 4.5])"
      ]
     },
     "execution_count": 30,
     "metadata": {},
     "output_type": "execute_result"
    }
   ],
   "source": [
    "nums[0:2]-np.linspace((i-1)/2,-(i-1)/2,i+1)"
   ]
  },
  {
   "cell_type": "code",
   "execution_count": 48,
   "id": "8af37809-1774-49c7-8364-9143710aae34",
   "metadata": {},
   "outputs": [
    {
     "data": {
      "text/plain": [
       "array([ 1.5,  0.5, -0.5, -1.5])"
      ]
     },
     "execution_count": 48,
     "metadata": {},
     "output_type": "execute_result"
    }
   ],
   "source": [
    "i=3\n",
    "np.linspace(i/2,-i/2,i+1)"
   ]
  },
  {
   "cell_type": "code",
   "execution_count": null,
   "id": "de219505-923c-4df5-bae9-bfccb747f89d",
   "metadata": {},
   "outputs": [],
   "source": []
  }
 ],
 "metadata": {
  "kernelspec": {
   "display_name": "Python 3 (ipykernel)",
   "language": "python",
   "name": "python3"
  },
  "language_info": {
   "codemirror_mode": {
    "name": "ipython",
    "version": 3
   },
   "file_extension": ".py",
   "mimetype": "text/x-python",
   "name": "python",
   "nbconvert_exporter": "python",
   "pygments_lexer": "ipython3",
   "version": "3.9.16"
  }
 },
 "nbformat": 4,
 "nbformat_minor": 5
}
