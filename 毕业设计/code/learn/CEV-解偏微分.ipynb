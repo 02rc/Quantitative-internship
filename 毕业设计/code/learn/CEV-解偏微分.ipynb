{
 "cells": [
  {
   "cell_type": "markdown",
   "id": "79790d57-52d9-4fd0-8072-aaf0671a1b8f",
   "metadata": {},
   "source": [
    "$$V_t=\\frac{2}{\\alpha \\Delta t}\\left[\\frac{S_{t+\\Delta t}^{1+\\alpha}-S_t^{1+\\alpha}}{(1+\\alpha) S_t^{1+\\alpha}}-\\frac{S_{t+\\Delta t}-S_t}{S_t}\\right]$$\n",
    "$$\\alpha=-\\frac{13}{11}-\\frac{12}{11} \\frac{\\mu}{\\sigma\\left(S_t\\right)^2}$$\n",
    "$$\\ln \\sigma\\left(S_t\\right)^2 =  2 \\ln (\\delta) + (\\theta -2) \\ln (S_t)$$\n",
    "$$\\sum_{t=1}^{n-1}\\left(\\ln V_t-\\ln \\sigma\\left(S_t\\right)^2\\right)^2$$\n",
    "所以$\\ln V_t$对$\\ln \\left(S_t\\right)$做线性回归，得到的系数既是$\\theta -2$"
   ]
  },
  {
   "cell_type": "code",
   "execution_count": 1,
   "id": "31e668fc-dd55-46df-836b-5aa5747cc114",
   "metadata": {},
   "outputs": [
    {
     "name": "stderr",
     "output_type": "stream",
     "text": [
      "C:\\Users\\Administrator\\AppData\\Local\\Temp\\ipykernel_8368\\4270833563.py:25: RuntimeWarning: invalid value encountered in scalar power\n",
      "  (S ** gamma) * gaussian_increments[i] * sqrt_dt\n"
     ]
    },
    {
     "name": "stdout",
     "output_type": "stream",
     "text": [
      "mu : 0.0 \t| est : 0.0546671592477858 \t| std : 0.12612995439664326\n",
      "sigma : 0.5 \t| est : 0.5317858190187142 \t| std : 0.009369757610233294\n",
      "gamma : 0.8 \t| est : 0.7992122042086476 \t| std : 0.02075882034205364\n",
      "----------\n",
      "mu : 0.2 \t| est : 0.21256521457261549 \t| std : 0.1317677726684672\n",
      "sigma : 0.5 \t| est : 0.5293440511669173 \t| std : 0.012143313415460853\n",
      "gamma : 0.8 \t| est : 0.8017122562248804 \t| std : 0.023680957060982364\n",
      "----------\n",
      "mu : 0.2 \t| est : 0.21252535721552476 \t| std : 0.20492531692354116\n",
      "sigma : 0.5 \t| est : 0.5298720469333866 \t| std : 0.007976794683717339\n",
      "gamma : 1.2 \t| est : 1.202080714625498 \t| std : 0.02217161808579669\n",
      "----------\n",
      "mu : 0.0 \t| est : 0.07460335526134648 \t| std : 0.10189909088703278\n",
      "sigma : 0.3 \t| est : 0.31747647885466007 \t| std : 0.005093005173148378\n",
      "gamma : 0.2 \t| est : 0.19954500356577798 \t| std : 0.044427130534360294\n",
      "----------\n",
      "mu : 0.0 \t| est : -0.0031449500061706257 \t| std : 0.11175282107770093\n",
      "sigma : 0.5 \t| est : 0.530992981815231 \t| std : 0.012169466501966505\n",
      "gamma : 2 \t| est : 2.0014511438918188 \t| std : 0.03005563904423976\n",
      "----------\n"
     ]
    }
   ],
   "source": [
    "import numpy as np\n",
    "\n",
    "# CEV process\n",
    "class ProcessCEV:\n",
    "\n",
    "    def __init__(self, mu, sigma, gamma):\n",
    "        self._mu = mu\n",
    "        self._sigma = sigma\n",
    "        self._gamma = gamma\n",
    "\n",
    "    def Simulate(self, T=1, dt=0.001, S0=1.):\n",
    "        n = round(T / dt)\n",
    "        \n",
    "        mu = self._mu\n",
    "        sigma = self._sigma\n",
    "        gamma = self._gamma\n",
    "\n",
    "        gaussian_increments = np.random.normal(size=n - 1)\n",
    "        res = np.zeros(n)\n",
    "        res[0] = S0\n",
    "        S = S0\n",
    "        sqrt_dt = dt ** 0.5\n",
    "        for i in range(n - 1):\n",
    "            S = S + S * mu * dt + sigma * \\\n",
    "                (S ** gamma) * gaussian_increments[i] * sqrt_dt\n",
    "            res[i + 1] = S\n",
    "\n",
    "        return res\n",
    "    \n",
    "class EstimatorCEV:\n",
    "\n",
    "    def __init__(self, dt):\n",
    "        self._dt = dt\n",
    "        self._alpha0 = -5\n",
    "    '''\n",
    "    trajectory:S_t\n",
    "    V_T is an estimate of  sigma^2 (delta^2 S^{theta-2})\n",
    "    '''\n",
    "    def Estimate(self, trajectory):\n",
    "        sigma, gamma = self._evaluate_sigma_gamma(trajectory, self._alpha0)\n",
    "        if sigma == None:\n",
    "            return None, None, None\n",
    "        else:\n",
    "            mu = self._estimate_mu(trajectory)\n",
    "            return (mu, sigma, gamma)\n",
    "\n",
    "    def _log_increments(self, trajectory):# 除以差分，类似于收益率\n",
    "        return np.diff(trajectory) / trajectory[:-1]\n",
    "    \n",
    "    def _estimate_mu(self, trajectory):# 涨跌幅除以时间，就得到mu\n",
    "        return np.mean(self._log_increments(trajectory)) / self._dt \n",
    "\n",
    "    def _log_increments_alpha(self, trajectory, alpha):#计算V_t的第一项\n",
    "        mod_increments = self._log_increments(trajectory ** (1 + alpha))\n",
    "        return mod_increments / (1 + alpha)\n",
    "\n",
    "    def _evaluate_Vt(self, trajectory, alpha):#计算V_t\n",
    "        lhs = self._log_increments_alpha(trajectory, alpha)\n",
    "        rhs = self._log_increments(trajectory)# V_t第二项\n",
    "        center = 2 * (lhs - rhs) / (alpha * self._dt)\n",
    "        return center\n",
    "\n",
    "    def _evaluate_sigma_gamma(self, trajectory, alpha):\n",
    "        if np.any(trajectory <= 0):\n",
    "            return None, None\n",
    "        \n",
    "        Vts = self._evaluate_Vt(trajectory, alpha)\n",
    "        if np.any(Vts <= 0):\n",
    "            return None, None\n",
    "        logVts = np.log(Vts)\n",
    "\n",
    "        Sts = trajectory[:-1]  # removes the last term as in eq. (5)\n",
    "        if np.any(Sts <= 0):\n",
    "            return None, None\n",
    "        logSts = np.log(Sts)\n",
    "\n",
    "        ones = np.ones(Sts.shape[0])\n",
    "        A = np.column_stack((ones, logSts)) \n",
    "\n",
    "        res = np.linalg.lstsq(A, logVts, rcond=None)[0]\n",
    "        return (2 * np.exp(res[0] / 2), 0.5 * (res[1] + 2))\n",
    "\n",
    "\n",
    "if __name__ == \"__main__\":\n",
    "\n",
    "    #from ProcessCEV import ProcessCEV\n",
    "\n",
    "    def test(true_mu, true_sigma, true_gamma):\n",
    "        dt = 0.001\n",
    "        T = 10\n",
    "        \n",
    "        sample_mu = []\n",
    "        sample_sigma = []\n",
    "        sample_gamma = []\n",
    "\n",
    "        for i in range(100):\n",
    "            mu_est, sigma_est, gamma_est = EstimatorCEV(dt=dt).Estimate(ProcessCEV(\n",
    "                true_mu, true_sigma, true_gamma).Simulate(T, dt=dt))\n",
    "            \n",
    "            if mu_est != None:\n",
    "                sample_mu = [mu_est] + sample_mu\n",
    "                sample_sigma = [sigma_est] + sample_sigma\n",
    "                sample_gamma = [gamma_est ] + sample_gamma\n",
    "    \n",
    "        print(\"mu : \" + str(true_mu) + \" \\t| est : \" + str(np.mean(sample_mu)) + \" \\t| std : \" + str(np.std(sample_mu)))\n",
    "        print(\"sigma : \" + str(true_sigma) + \" \\t| est : \" + str(np.mean(sample_sigma)) + \" \\t| std : \" + str(np.std(sample_sigma)))\n",
    "        print(\"gamma : \" + str(true_gamma) + \" \\t| est : \" + str(np.mean(sample_gamma)) + \" \\t| std : \" + str(np.std(sample_gamma)))\n",
    "        print(10*\"-\")\n",
    "\n",
    "\n",
    "    test(0.,0.5,0.8)\n",
    "    test(0.2,0.5,0.8)\n",
    "    test(0.2,0.5,1.2)\n",
    "    test(0.,0.3,0.2)\n",
    "    test(0.,0.5,2)"
   ]
  },
  {
   "cell_type": "code",
   "execution_count": 26,
   "id": "4d4887c7-5914-43de-9f1d-2d0c61d39213",
   "metadata": {},
   "outputs": [
    {
     "data": {
      "text/plain": [
       "10000"
      ]
     },
     "execution_count": 26,
     "metadata": {},
     "output_type": "execute_result"
    }
   ],
   "source": [
    "len(ProcessCEV(0.2,0.5,0.8).Simulate(10, dt=0.001))#模拟CEV模型下的股价走势"
   ]
  },
  {
   "cell_type": "code",
   "execution_count": 37,
   "id": "54090dcd-71c9-40da-8743-b55a75e80184",
   "metadata": {
    "tags": []
   },
   "outputs": [],
   "source": [
    "dt = 0.001\n",
    "T = 10\n",
    "trajectory=ProcessCEV(0.2,0.5,0.8).Simulate(T, dt=dt)\n",
    "Vts = EstimatorCEV(dt=dt)._evaluate_Vt(trajectory, -5)\n",
    "logVts = np.log(Vts)\n",
    "\n",
    "Sts = trajectory[:-1]  # removes the last term as in eq. (5)\n",
    "\n",
    "logSts = np.log(Sts)\n",
    "\n",
    "ones = np.ones(Sts.shape[0])\n",
    "A = np.column_stack((ones, logSts)) \n",
    "\n",
    "res = np.linalg.lstsq(A, logVts, rcond=None)[0]"
   ]
  },
  {
   "cell_type": "code",
   "execution_count": 44,
   "id": "e66479c6-2671-450e-87be-931dd287c74f",
   "metadata": {},
   "outputs": [
    {
     "data": {
      "text/plain": [
       "(array([-2.66660035, -0.43004486]),\n",
       " array([51328.95374597]),\n",
       " 2,\n",
       " array([122.73364721,  43.23263573]))"
      ]
     },
     "execution_count": 44,
     "metadata": {},
     "output_type": "execute_result"
    }
   ],
   "source": [
    "np.linalg.lstsq(A, logVts, rcond=None)"
   ]
  },
  {
   "cell_type": "code",
   "execution_count": 38,
   "id": "3b692507-5dbc-4745-bf0e-b28e416dfe4c",
   "metadata": {},
   "outputs": [
    {
     "data": {
      "text/plain": [
       "9999"
      ]
     },
     "execution_count": 38,
     "metadata": {},
     "output_type": "execute_result"
    }
   ],
   "source": [
    "len(A)"
   ]
  },
  {
   "cell_type": "code",
   "execution_count": 36,
   "id": "c2400447-3fc7-44fe-af9e-1560398658a0",
   "metadata": {},
   "outputs": [
    {
     "data": {
      "text/plain": [
       "9999"
      ]
     },
     "execution_count": 36,
     "metadata": {},
     "output_type": "execute_result"
    }
   ],
   "source": [
    "len(Vts)"
   ]
  },
  {
   "cell_type": "code",
   "execution_count": 30,
   "id": "66fa979d-4528-4cf4-ae70-08728836993b",
   "metadata": {},
   "outputs": [
    {
     "ename": "NameError",
     "evalue": "name 'logVts' is not defined",
     "output_type": "error",
     "traceback": [
      "\u001b[1;31m---------------------------------------------------------------------------\u001b[0m",
      "\u001b[1;31mNameError\u001b[0m                                 Traceback (most recent call last)",
      "\u001b[1;32m~\\AppData\\Local\\Temp\\ipykernel_8368\\61476728.py\u001b[0m in \u001b[0;36m<module>\u001b[1;34m\u001b[0m\n\u001b[1;32m----> 1\u001b[1;33m \u001b[0mnp\u001b[0m\u001b[1;33m.\u001b[0m\u001b[0mlinalg\u001b[0m\u001b[1;33m.\u001b[0m\u001b[0mlstsq\u001b[0m\u001b[1;33m(\u001b[0m\u001b[0mA\u001b[0m\u001b[1;33m,\u001b[0m \u001b[0mlogVts\u001b[0m\u001b[1;33m,\u001b[0m \u001b[0mrcond\u001b[0m\u001b[1;33m=\u001b[0m\u001b[1;32mNone\u001b[0m\u001b[1;33m)\u001b[0m\u001b[1;33m[\u001b[0m\u001b[1;36m0\u001b[0m\u001b[1;33m]\u001b[0m\u001b[1;33m\u001b[0m\u001b[1;33m\u001b[0m\u001b[0m\n\u001b[0m",
      "\u001b[1;31mNameError\u001b[0m: name 'logVts' is not defined"
     ]
    }
   ],
   "source": [
    "np.linalg.lstsq(A, logVts, rcond=None)[0]"
   ]
  },
  {
   "cell_type": "code",
   "execution_count": 21,
   "id": "767f7dce-a69d-433e-a2c5-649c8eb4cdd1",
   "metadata": {},
   "outputs": [
    {
     "data": {
      "text/plain": [
       "array([1., 1.])"
      ]
     },
     "execution_count": 21,
     "metadata": {},
     "output_type": "execute_result"
    }
   ],
   "source": [
    "ones"
   ]
  },
  {
   "cell_type": "code",
   "execution_count": 22,
   "id": "2b6408ae-a38f-4452-88a8-660ab02ff89a",
   "metadata": {},
   "outputs": [
    {
     "data": {
      "text/plain": [
       "array([[1.        , 0.        , 0.69314718, 3.4657359 , 1.09861229,\n",
       "        0.69314718, 1.09861229, 1.38629436, 3.52636052, 1.09861229,\n",
       "        3.73766962],\n",
       "       [1.        , 0.        , 0.69314718, 3.4657359 , 1.09861229,\n",
       "        0.69314718, 1.09861229, 1.38629436, 3.52636052, 1.09861229,\n",
       "        3.73766962]])"
      ]
     },
     "execution_count": 22,
     "metadata": {},
     "output_type": "execute_result"
    }
   ],
   "source": [
    "A"
   ]
  },
  {
   "cell_type": "code",
   "execution_count": null,
   "id": "84dbb5b3-0264-4e86-a921-2d8e706b8d6c",
   "metadata": {},
   "outputs": [],
   "source": []
  },
  {
   "cell_type": "code",
   "execution_count": null,
   "id": "abd338d3-133a-4611-9918-a3310dee1207",
   "metadata": {},
   "outputs": [],
   "source": []
  },
  {
   "cell_type": "code",
   "execution_count": null,
   "id": "78d87a4a-2d6d-46e3-8312-f807f387cedb",
   "metadata": {},
   "outputs": [],
   "source": []
  },
  {
   "cell_type": "code",
   "execution_count": null,
   "id": "98fe8530-341d-47b2-a2a0-d53f01308071",
   "metadata": {},
   "outputs": [],
   "source": []
  },
  {
   "cell_type": "code",
   "execution_count": null,
   "id": "995c46cd-c0a7-4ea2-8ad7-2f5751867b32",
   "metadata": {},
   "outputs": [],
   "source": []
  }
 ],
 "metadata": {
  "kernelspec": {
   "display_name": "Python 3 (ipykernel)",
   "language": "python",
   "name": "python3"
  },
  "language_info": {
   "codemirror_mode": {
    "name": "ipython",
    "version": 3
   },
   "file_extension": ".py",
   "mimetype": "text/x-python",
   "name": "python",
   "nbconvert_exporter": "python",
   "pygments_lexer": "ipython3",
   "version": "3.9.13"
  }
 },
 "nbformat": 4,
 "nbformat_minor": 5
}
