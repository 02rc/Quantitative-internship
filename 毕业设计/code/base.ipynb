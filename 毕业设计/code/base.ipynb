{
 "cells": [
  {
   "cell_type": "markdown",
   "id": "a589a35b-5ee3-441e-a1cc-20244c9e3ae3",
   "metadata": {},
   "source": [
    "期权是按标的资产不同来看，期权可以分为个股期权、股指期权、利率期权、外汇期权、商品期权和股票期权等，股票期权是指以股票为标的资产的期权，而商品期权是指以商品为标的资产的期权。股票期权通常用于员工激励计划或投资交易，而商品期权通常用于对冲价格风险或进行投机交易。"
   ]
  },
  {
   "cell_type": "code",
   "execution_count": null,
   "id": "a266e520-3647-45e5-aade-bb10b0b80d84",
   "metadata": {},
   "outputs": [],
   "source": []
  }
 ],
 "metadata": {
  "kernelspec": {
   "display_name": "ff",
   "language": "python",
   "name": "ff"
  },
  "language_info": {
   "codemirror_mode": {
    "name": "ipython",
    "version": 3
   },
   "file_extension": ".py",
   "mimetype": "text/x-python",
   "name": "python",
   "nbconvert_exporter": "python",
   "pygments_lexer": "ipython3",
   "version": "3.10.11"
  }
 },
 "nbformat": 4,
 "nbformat_minor": 5
}
