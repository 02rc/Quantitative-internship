{

 "cells": [],
 "metadata": {},

 "cells": [
  {
   "cell_type": "markdown",
   "id": "086f82ca-b545-4a28-b0b8-83f895d0b710",
   "metadata": {},
   "source": [
    "# 分层回测"
   ]
  },
  {
   "cell_type": "code",
   "execution_count": null,
   "id": "2cf30fec-c62d-48e9-8b81-6d91ae50aa5d",
   "metadata": {},
   "outputs": [],
   "source": [
    "### https://zhuanlan.zhihu.com/p/637826597"
   ]
  }
 ],
 "metadata": {
  "kernelspec": {
   "display_name": "Python 3 (ipykernel)",
   "language": "python",
   "name": "python3"
  },
  "language_info": {
   "codemirror_mode": {
    "name": "ipython",
    "version": 3
   },
   "file_extension": ".py",
   "mimetype": "text/x-python",
   "name": "python",
   "nbconvert_exporter": "python",
   "pygments_lexer": "ipython3",
   "version": "3.11.5"
  }
 },

 "nbformat": 4,
 "nbformat_minor": 5
}
