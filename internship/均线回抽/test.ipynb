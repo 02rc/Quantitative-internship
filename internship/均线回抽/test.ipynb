{
 "cells": [
  {
   "cell_type": "code",
   "execution_count": 182,
   "id": "c9799599-53ba-4cf7-a442-d87053336409",
   "metadata": {},
   "outputs": [
    {
     "name": "stdout",
     "output_type": "stream",
     "text": [
      "当前进程的内存使用：0.0651 GB\n",
      "电脑总内存：1007.4503 GB\n",
      "当前使用的总内存占比： 67.4\n",
      "cpu个数： 256\n"
     ]
    }
   ],
   "source": [
    "import psutil\n",
    "import os\n",
    "\n",
    "print(u'当前进程的内存使用：%.4f GB' % (psutil.Process(os.getpid()).memory_info().rss / 1024 ** 3) )\n",
    "\n",
    "info = psutil.virtual_memory()\n",
    "print(u'电脑总内存：%.4f GB' % (info.total / 1024 ** 3) )\n",
    "print(u'当前使用的总内存占比：',info.percent)\n",
    "print(u'cpu个数：',psutil.cpu_count())"
   ]
  },
  {
   "cell_type": "code",
   "execution_count": null,
   "id": "f6c29447-c5e0-4868-9a62-5f4687e6031a",
   "metadata": {},
   "outputs": [],
   "source": []
  },
  {
   "cell_type": "code",
   "execution_count": null,
   "id": "96b2fdc1-e4ab-4a41-a2d2-9ca9ba0ec105",
   "metadata": {},
   "outputs": [],
   "source": []
  }
 ],
 "metadata": {
  "kernelspec": {
   "display_name": "Python 3 (ipykernel)",
   "language": "python",
   "name": "python3"
  },
  "language_info": {
   "codemirror_mode": {
    "name": "ipython",
    "version": 3
   },
   "file_extension": ".py",
   "mimetype": "text/x-python",
   "name": "python",
   "nbconvert_exporter": "python",
   "pygments_lexer": "ipython3",
   "version": "3.9.16"
  }
 },
 "nbformat": 4,
 "nbformat_minor": 5
}
